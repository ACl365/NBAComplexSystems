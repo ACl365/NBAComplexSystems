{
 "cells": [
  {
   "cell_type": "markdown",
   "metadata": {},
   "source": [
    "# NBA Player Performance Dynamics: Data Exploration\n",
    "\n",
    "## Introduction & Project Overview\n",
    "\n",
    "This notebook introduces a novel approach to NBA analytics using dynamical systems theory. Traditional basketball analytics typically focus on averages and aggregates, missing the underlying patterns and dynamics that determine true player value and team fit. By modeling player performance as a complex dynamical system, we can extract deeper insights about consistency, adaptability, and impact that are invisible to conventional statistics.\n",
    "\n",
    "### Key Research Questions\n",
    "\n",
    "1. **Performance Stability**: How can we quantify the game-to-game consistency of player performance beyond simple variance metrics?\n",
    "2. **Team Styles**: Can we identify distinct playing styles and tactical patterns across NBA teams?\n",
    "3. **Player-Team Fit**: How do players perform across different team systems, and what determines optimal fit?\n",
    "4. **Teammate Influence**: How can we map and quantify the network of teammate interactions and influences?\n",
    "5. **Performance Prediction**: Can dynamical systems metrics better predict future performance than traditional statistics?\n",
    "\n",
    "### Value Over Traditional Analytics\n",
    "\n",
    "This approach offers several advantages over traditional basketball analytics:\n",
    "\n",
    "- **Deeper Performance Understanding**: Captures the dynamics of performance, not just static averages\n",
    "- **System Compatibility**: Quantifies how players perform in different team contexts\n",
    "- **Hidden Value Identification**: Reveals undervalued players with favorable stability profiles\n",
    "- **Roster Construction Insights**: Provides framework for balancing stability and volatility\n",
    "- **Predictive Power**: Better forecasts future performance by modeling the underlying system"
   ]
  },
  {
   "cell_type": "code",
   "execution_count": null,
   "metadata": {},
   "outputs": [],
   "source": [
    "# Import necessary libraries\n",
    "import pandas as pd\n",
    "import numpy as np\n",
    "import matplotlib.pyplot as plt\n",
    "import seaborn as sns\n",
    "import os\n",
    "import sys\n",
    "from datetime import datetime\n",
    "\n",
    "# Add the project root to the path so we can import our modules\n",
    "sys.path.append('..')\n",
    "\n",
    "# Import our data processing module\n",
    "from src.data_processing import load_data, preprocess_data, create_temporal_features\n",
    "from src.utils import setup_plotting_style\n",
    "\n",
    "# Set up plotting style\n",
    "setup_plotting_style()\n",
    "\n",
    "# Display settings\n",
    "pd.set_option('display.max_columns', None)\n",
    "pd.set_option('display.max_rows', 100)"
   ]
  },
  {
   "cell_type": "markdown",
   "metadata": {},
   "source": [
    "## Data Loading & Schema Exploration\n",
    "\n",
    "We'll be working with four primary datasets:\n",
    "1. **Teams**: Information about NBA teams\n",
    "2. **Players**: Information about NBA players\n",
    "3. **Games**: Game-level statistics for teams\n",
    "4. **Player Games**: Individual player performance in each game\n",
    "\n",
    "Let's load these datasets and explore their structure."
   ]
  },
  {
   "cell_type": "code",
   "execution_count": null,
   "metadata": {},
   "outputs": [],
   "source": [
    "# Load the data\n",
    "teams, players, games, player_games = load_data()\n",
    "\n",
    "# Check if data was loaded successfully\n",
    "if teams is None or players is None or games is None or player_games is None:\n",
    "    print(\"Error loading data. Please check the data directory.\")"
   ]
  },
  {
   "cell_type": "markdown",
   "metadata": {},
   "source": [
    "### Teams Dataset"
   ]
  },
  {
   "cell_type": "code",
   "execution_count": null,
   "metadata": {},
   "outputs": [],
   "source": [
    "# Examine the teams dataset\n",
    "print(\"Teams dataset shape:\", teams.shape)\n",
    "teams.head()"
   ]
  },
  {
   "cell_type": "code",
   "execution_count": null,
   "metadata": {},
   "outputs": [],
   "source": [
    "# Data dictionary for teams dataset\n",
    "teams_dict = {\n",
    "    'id': 'Unique team identifier',\n",
    "    'full_name': 'Full team name (e.g., \"Los Angeles Lakers\")',\n",
    "    'abbreviation': 'Team abbreviation (e.g., \"LAL\")',\n",
    "    'nickname': 'Team nickname (e.g., \"Lakers\")',\n",
    "    'city': 'Team city location',\n",
    "    'state': 'Team state location',\n",
    "    'year_founded': 'Year the team was founded'\n",
    "}\n",
    "\n",
    "# Display data dictionary\n",
    "pd.DataFrame(list(teams_dict.items()), columns=['Column', 'Description'])"
   ]
  },
  {
   "cell_type": "markdown",
   "metadata": {},
   "source": [
    "### Players Dataset"
   ]
  },
  {
   "cell_type": "code",
   "execution_count": null,
   "metadata": {},
   "outputs": [],
   "source": [
    "# Examine the players dataset\n",
    "print(\"Players dataset shape:\", players.shape)\n",
    "players.head()"
   ]
  },
  {
   "cell_type": "code",
   "execution_count": null,
   "metadata": {},
   "outputs": [],
   "source": [
    "# Data dictionary for players dataset\n",
    "players_dict = {\n",
    "    'id': 'Unique player identifier',\n",
    "    'full_name': 'Player full name',\n",
    "    'first_name': 'Player first name',\n",
    "    'last_name': 'Player last name',\n",
    "    'is_active': 'Whether the player is currently active',\n",
    "    'position': 'Player position (e.g., \"G\", \"F\", \"C\")',\n",
    "    'height': 'Player height in feet-inches',\n",
    "    'weight': 'Player weight in pounds',\n",
    "    'birth_date': 'Player birth date',\n",
    "    'college': 'Player college (if applicable)',\n",
    "    'country': 'Player country of origin',\n",
    "    'draft_year': 'Year player was drafted',\n",
    "    'draft_round': 'Draft round',\n",
    "    'draft_number': 'Draft pick number'\n",
    "}\n",
    "\n",
    "# Display data dictionary\n",
    "pd.DataFrame(list(players_dict.items()), columns=['Column', 'Description'])"
   ]
  },
  {
   "cell_type": "markdown",
   "metadata": {},
   "source": [
    "### Games Dataset"
   ]
  },
  {
   "cell_type": "code",
   "execution_count": null,
   "metadata": {},
   "outputs": [],
   "source": [
    "# Examine the games dataset\n",
    "print(\"Games dataset shape:\", games.shape)\n",
    "games.head()"
   ]
  },
  {
   "cell_type": "code",
   "execution_count": null,
   "metadata": {},
   "outputs": [],
   "source": [
    "# Data dictionary for games dataset\n",
    "games_dict = {\n",
    "    'Game_ID': 'Unique game identifier',\n",
    "    'GAME_DATE': 'Date of the game',\n",
    "    'MATCHUP': 'Teams playing (e.g., \"LAL vs. BOS\")',\n",
    "    'WL': 'Win or Loss (\"W\" or \"L\")',\n",
    "    'Team_ID': 'Team identifier',\n",
    "    'PTS': 'Points scored',\n",
    "    'FGM': 'Field goals made',\n",
    "    'FGA': 'Field goals attempted',\n",
    "    'FG_PCT': 'Field goal percentage',\n",
    "    'FG3M': '3-point field goals made',\n",
    "    'FG3A': '3-point field goals attempted',\n",
    "    'FG3_PCT': '3-point field goal percentage',\n",
    "    'FTM': 'Free throws made',\n",
    "    'FTA': 'Free throws attempted',\n",
    "    'FT_PCT': 'Free throw percentage',\n",
    "    'OREB': 'Offensive rebounds',\n",
    "    'DREB': 'Defensive rebounds',\n",
    "    'REB': 'Total rebounds',\n",
    "    'AST': 'Assists',\n",
    "    'STL': 'Steals',\n",
    "    'BLK': 'Blocks',\n",
    "    'TOV': 'Turnovers',\n",
    "    'PF': 'Personal fouls',\n",
    "    'PLUS_MINUS': 'Plus-minus score'\n",
    "}\n",
    "\n",
    "# Display data dictionary\n",
    "pd.DataFrame(list(games_dict.items()), columns=['Column', 'Description'])"
   ]
  },
  {
   "cell_type": "markdown",
   "metadata": {},
   "source": [
    "### Player Games Dataset"
   ]
  },
  {
   "cell_type": "code",
   "execution_count": null,
   "metadata": {},
   "outputs": [],
   "source": [
    "# Examine the player games dataset\n",
    "print(\"Player games dataset shape:\", player_games.shape)\n",
    "player_games.head()"
   ]
  },
  {
   "cell_type": "code",
   "execution_count": null,
   "metadata": {},
   "outputs": [],
   "source": [
    "# Data dictionary for player games dataset\n",
    "player_games_dict = {\n",
    "    'Game_ID': 'Unique game identifier',\n",
    "    'GAME_DATE': 'Date of the game',\n",
    "    'MATCHUP': 'Teams playing (e.g., \"LAL vs. BOS\")',\n",
    "    'WL': 'Win or Loss (\"W\" or \"L\")',\n",
    "    'Player_ID': 'Player identifier',\n",
    "    'MIN': 'Minutes played',\n",
    "    'PTS': 'Points scored',\n",
    "    'FGM': 'Field goals made',\n",
    "    'FGA': 'Field goals attempted',\n",
    "    'FG_PCT': 'Field goal percentage',\n",
    "    'FG3M': '3-point field goals made',\n",
    "    'FG3A': '3-point field goals attempted',\n",
    "    'FG3_PCT': '3-point field goal percentage',\n",
    "    'FTM': 'Free throws made',\n",
    "    'FTA': 'Free throws attempted',\n",
    "    'FT_PCT': 'Free throw percentage',\n",
    "    'OREB': 'Offensive rebounds',\n",
    "    'DREB': 'Defensive rebounds',\n",
    "    'REB': 'Total rebounds',\n",
    "    'AST': 'Assists',\n",
    "    'STL': 'Steals',\n",
    "    'BLK': 'Blocks',\n",
    "    'TOV': 'Turnovers',\n",
    "    'PF': 'Personal fouls',\n",
    "    'PLUS_MINUS': 'Plus-minus score'\n",
    "}\n",
    "\n",
    "# Display data dictionary\n",
    "pd.DataFrame(list(player_games_dict.items()), columns=['Column', 'Description'])"
   ]
  },
  {
   "cell_type": "markdown",
   "metadata": {},
   "source": [
    "### Visualizing Relationships Between Tables\n",
    "\n",
    "Let's visualize how these datasets are related to each other."
   ]
  },
  {
   "cell_type": "code",
   "execution_count": null,
   "metadata": {},
   "outputs": [],
   "source": [
    "# Create a simple diagram of table relationships\n",
    "from graphviz import Digraph\n",
    "\n",
    "# Create a new graph\n",
    "dot = Digraph(comment='NBA Data Schema')\n",
    "\n",
    "# Add nodes for each table\n",
    "dot.node('Teams', 'Teams\\n(Team information)')\n",
    "dot.node('Players', 'Players\\n(Player information)')\n",
    "dot.node('Games', 'Games\\n(Team game statistics)')\n",
    "dot.node('PlayerGames', 'Player Games\\n(Player game statistics)')\n",
    "\n",
    "# Add edges to show relationships\n",
    "dot.edge('Teams', 'Games', label='Team_ID')\n",
    "dot.edge('Players', 'PlayerGames', label='Player_ID')\n",
    "dot.edge('Games', 'PlayerGames', label='Game_ID')\n",
    "\n",
    "# Render the graph\n",
    "dot.render('nba_schema', format='png', cleanup=True)\n",
    "\n",
    "# Display the image\n",
    "from IPython.display import Image\n",
    "Image('nba_schema.png')"
   ]
  },
  {
   "cell_type": "markdown",
   "metadata": {},
   "source": [
    "## Exploratory Data Analysis\n",
    "\n",
    "Now that we understand the structure of our data, let's explore it in more detail to gain insights about player and team performance."
   ]
  },
  {
   "cell_type": "markdown",
   "metadata": {},
   "source": [
    "### Basic Statistics"
   ]
  },
  {
   "cell_type": "code",
   "execution_count": null,
   "metadata": {},
   "outputs": [],
   "source": [
    "# Basic statistics for games dataset\n",
    "games.describe()"
   ]
  },
  {
   "cell_type": "code",
   "execution_count": null,
   "metadata": {},
   "outputs": [],
   "source": [
    "# Basic statistics for player games dataset\n",
    "player_games.describe()"
   ]
  },
  {
   "cell_type": "markdown",
   "metadata": {},
   "source": [
    "### Distributions of Key Performance Metrics"
   ]
  },
  {
   "cell_type": "code",
   "execution_count": null,
   "metadata": {},
   "outputs": [],
   "source": [
    "# Distribution of points scored by teams\n",
    "plt.figure(figsize=(10, 6))\n",
    "sns.histplot(games['PTS'], kde=True)\n",
    "plt.title('Distribution of Team Points Scored', fontsize=14)\n",
    "plt.xlabel('Points', fontsize=12)\n",
    "plt.ylabel('Frequency', fontsize=12)\n",
    "plt.grid(True, alpha=0.3)\n",
    "plt.show()"
   ]
  },
  {
   "cell_type": "code",
   "execution_count": null,
   "metadata": {},
   "outputs": [],
   "source": [
    "# Distribution of points scored by players\n",
    "plt.figure(figsize=(10, 6))\n",
    "sns.histplot(player_games['PTS'], kde=True)\n",
    "plt.title('Distribution of Player Points Scored', fontsize=14)\n",
    "plt.xlabel('Points', fontsize=12)\n",
    "plt.ylabel('Frequency', fontsize=12)\n",
    "plt.grid(True, alpha=0.3)\n",
    "plt.show()"
   ]
  },
  {
   "cell_type": "code",
   "execution_count": null,
   "metadata": {},
   "outputs": [],
   "source": [
    "# Distribution of plus/minus for players\n",
    "plt.figure(figsize=(10, 6))\n",
    "sns.histplot(player_games['PLUS_MINUS'], kde=True)\n",
    "plt.title('Distribution of Player Plus/Minus', fontsize=14)\n",
    "plt.xlabel('Plus/Minus', fontsize=12)\n",
    "plt.ylabel('Frequency', fontsize=12)\n",
    "plt.grid(True, alpha=0.3)\n",
    "plt.axvline(x=0, color='red', linestyle='--')\n",
    "plt.show()"
   ]
  },
  {
   "cell_type": "code",
   "execution_count": null,
   "metadata": {},
   "outputs": [],
   "source": [
    "# Distribution of minutes played\n",
    "plt.figure(figsize=(10, 6))\n",
    "sns.histplot(player_games['MIN'], kde=True)\n",
    "plt.title('Distribution of Minutes Played', fontsize=14)\n",
    "plt.xlabel('Minutes', fontsize=12)\n",
    "plt.ylabel('Frequency', fontsize=12)\n",
    "plt.grid(True, alpha=0.3)\n",
    "plt.show()"
   ]
  },
  {
   "cell_type": "markdown",
   "metadata": {},
   "source": [
    "### Correlation Analysis"
   ]
  },
  {
   "cell_type": "code",
   "execution_count": null,
   "metadata": {},
   "outputs": [],
   "source": [
    "# Select relevant columns for correlation analysis\n",
    "game_corr_columns = ['PTS', 'FGM', 'FGA', 'FG3M', 'FG3A', 'FTM', 'FTA', \n",
    "                     'OREB', 'DREB', 'AST', 'STL', 'BLK', 'TOV', 'PLUS_MINUS']\n",
    "\n",
    "# Calculate correlation matrix\n",
    "game_corr = games[game_corr_columns].corr()\n",
    "\n",
    "# Plot correlation heatmap\n",
    "plt.figure(figsize=(12, 10))\n",
    "sns.heatmap(game_corr, annot=True, cmap='coolwarm', fmt='.2f', linewidths=0.5)\n",
    "plt.title('Correlation Matrix of Team Game Statistics', fontsize=14)\n",
    "plt.tight_layout()\n",
    "plt.show()"
   ]
  },
  {
   "cell_type": "code",
   "execution_count": null,
   "metadata": {},
   "outputs": [],
   "source": [
    "# Select relevant columns for correlation analysis\n",
    "player_corr_columns = ['PTS', 'MIN', 'FGM', 'FGA', 'FG3M', 'FG3A', 'FTM', 'FTA', \n",
    "                       'OREB', 'DREB', 'AST', 'STL', 'BLK', 'TOV', 'PLUS_MINUS']\n",
    "\n",
    "# Calculate correlation matrix\n",
    "player_corr = player_games[player_corr_columns].corr()\n",
    "\n",
    "# Plot correlation heatmap\n",
    "plt.figure(figsize=(12, 10))\n",
    "sns.heatmap(player_corr, annot=True, cmap='coolwarm', fmt='.2f', linewidths=0.5)\n",
    "plt.title('Correlation Matrix of Player Game Statistics', fontsize=14)\n",
    "plt.tight_layout()\n",
    "plt.show()"
   ]
  },
  {
   "cell_type": "markdown",
   "metadata": {},
   "source": [
    "### Time Series Overview"
   ]
  },
  {
   "cell_type": "code",
   "execution_count": null,
   "metadata": {},
   "outputs": [],
   "source": [
    "# Convert date strings to datetime objects\n",
    "games['GAME_DATE'] = pd.to_datetime(games['GAME_DATE'])\n",
    "player_games['GAME_DATE'] = pd.to_datetime(player_games['GAME_DATE'])\n",
    "\n",
    "# Sort by date\n",
    "games_sorted = games.sort_values('GAME_DATE')\n",
    "player_games_sorted = player_games.sort_values('GAME_DATE')"
   ]
  },
  {
   "cell_type": "code",
   "execution_count": null,
   "metadata": {},
   "outputs": [],
   "source": [
    "# Aggregate points by date\n",
    "daily_points = games_sorted.groupby(games_sorted['GAME_DATE'].dt.date)['PTS'].mean().reset_index()\n",
    "\n",
    "# Plot time series of average points per game\n",
    "plt.figure(figsize=(14, 6))\n",
    "plt.plot(daily_points['GAME_DATE'], daily_points['PTS'], marker='o', alpha=0.7, linestyle='-')\n",
    "plt.title('Average Points Per Game Over Time', fontsize=14)\n",
    "plt.xlabel('Date', fontsize=12)\n",
    "plt.ylabel('Average Points', fontsize=12)\n",
    "plt.grid(True, alpha=0.3)\n",
    "plt.tight_layout()\n",
    "plt.show()"
   ]
  },
  {
   "cell_type": "code",
   "execution_count": null,
   "metadata": {},
   "outputs": [],
   "source": [
    "# Select a sample player for time series analysis\n",
    "# Find a player with many games\n",
    "player_game_counts = player_games['Player_ID'].value_counts()\n",
    "sample_player_id = player_game_counts.index[0]\n",
    "sample_player_name = player_games[player_games['Player_ID'] == sample_player_id]['PlayerName'].iloc[0]\n",
    "\n",
    "# Get player's game data\n",
    "player_games_data = player_games[player_games['Player_ID'] == sample_player_id].copy()\n",
    "player_games_data = player_games_data.sort_values('GAME_DATE')\n",
    "\n",
    "# Plot time series of points and plus/minus\n",
    "fig, (ax1, ax2) = plt.subplots(2, 1, figsize=(14, 10), sharex=True)\n",
    "\n",
    "# Points time series\n",
    "ax1.plot(player_games_data['GAME_DATE'], player_games_data['PTS'], marker='o', linestyle='-', label='Points')\n",
    "ax1.set_ylabel('Points', fontsize=12)\n",
    "ax1.set_title(f\"{sample_player_name}: Game-by-Game Performance\", fontsize=14)\n",
    "ax1.grid(True, alpha=0.3)\n",
    "ax1.axhline(y=player_games_data['PTS'].mean(), color='r', linestyle='--', label='Average')\n",
    "ax1.legend()\n",
    "\n",
    "# Plus/Minus time series\n",
    "ax2.plot(player_games_data['GAME_DATE'], player_games_data['PLUS_MINUS'], marker='o', linestyle='-', color='green', label='Plus/Minus')\n",
    "ax2.set_xlabel('Game Date', fontsize=12)\n",
    "ax2.set_ylabel('Plus/Minus', fontsize=12)\n",
    "ax2.grid(True, alpha=0.3)\n",
    "ax2.axhline(y=0, color='gray', linestyle='--')\n",
    "ax2.axhline(y=player_games_data['PLUS_MINUS'].mean(), color='r', linestyle='--', label='Average')\n",
    "ax2.legend()\n",
    "\n",
    "plt.tight_layout()\n",
    "plt.show()"
   ]
  },
  {
   "cell_type": "markdown",
   "metadata": {},
   "source": [
    "## Feature Engineering\n",
    "\n",
    "Now let's create derived metrics that will be useful for our analysis."
   ]
  },
  {
   "cell_type": "code",
   "execution_count": null,
   "metadata": {},
   "outputs": [],
   "source": [
    "# Preprocess the data using our module\n",
    "games_processed, player_games_processed = preprocess_data(teams, players, games, player_games)\n",
    "\n",
    "# Check the processed data\n",
    "print(\"Processed games dataset shape:\", games_processed.shape)\n",
    "print(\"Processed player games dataset shape:\", player_games_processed.shape)"
   ]
  },
  {
   "cell_type": "code",
   "execution_count": null,
   "metadata": {},
   "outputs": [],
   "source": [
    "# Examine the new features in the games dataset\n",
    "new_features = ['PointsPerPossession', 'AssistRatio', 'TurnoverRatio', 'EffectiveFG', 'DefensiveRebound%', 'OffensiveRebound%']\n",
    "games_processed[new_features].describe()"
   ]
  },
  {
   "cell_type": "code",
   "execution_count": null,
   "metadata": {},
   "outputs": [],
   "source": [
    "# Examine the new features in the player games dataset\n",
    "player_new_features = ['UsageRate', 'EffectiveFG', 'TrueShootingPct', 'PointsPerMinute', 'ReboundsPerMinute', 'AssistsPerMinute']\n",
    "player_games_processed[player_new_features].describe()"
   ]
  },
  {
   "cell_type": "markdown",
   "metadata": {},
   "source": [
    "### Advanced Basketball Metrics\n",
    "\n",
    "Let's create some additional advanced metrics that aren't included in the preprocessing function."
   ]
  },
  {
   "cell_type": "code",
   "execution_count": null,
   "metadata": {},
   "outputs": [],
   "source": [
    "# Create additional advanced metrics for teams\n",
    "games_processed['DefensiveRating'] = games_processed['PTS'] / (games_processed['FGA'] - games_processed['OREB'] + games_processed['TOV'] + 0.44 * games_processed['FTA'])\n",
    "games_processed['OffensiveRating'] = games_processed['PTS'] / (games_processed['FGA'] - games_processed['OREB'] + games_processed['TOV'] + 0.44 * games_processed['FTA'])\n",
    "games_processed['NetRating'] = games_processed['OffensiveRating'] - games_processed['DefensiveRating']\n",
    "games_processed['PaceEstimate'] = games_processed['FGA'] - games_processed['OREB'] + games_processed['TOV'] + 0.44 * games_processed['FTA']\n",
    "\n",
    "# Create additional advanced metrics for players\n",
    "player_games_processed['GameScore'] = player_games_processed['PTS'] + 0.4 * player_games_processed['FGM'] - 0.7 * player_games_processed['FGA'] - 0.4 * (player_games_processed['FTA'] - player_games_processed['FTM']) + 0.7 * player_games_processed['OREB'] + 0.3 * player_games_processed['DREB'] + player_games_processed['STL'] + 0.7 * player_games_processed['AST'] + 0.7 * player_games_processed['BLK'] - 0.4 * player_games_processed['PF'] - player_games_processed['TOV']\n",
    "player_games_processed['BoxPlusMinus'] = player_games_processed['PLUS_MINUS'] / player_games_processed['MIN'] * 100  # Per 100 possessions\n",
    "\n",
    "# Handle infinite values from division by zero\n",
    "for df in [games_processed, player_games_processed]:\n",
    "    for col in df.select_dtypes(include=['float64']).columns:\n",
    "        df[col] = df[col].replace([np.inf, -np.inf], np.nan)\n",
    "\n",
    "# Fill NaN values with appropriate replacements\n",
    "games_processed = games_processed.fillna(0)\n",
    "player_games_processed = player_games_processed.fillna(0)"
   ]
  },
  {
   "cell_type": "code",
   "execution_count": null,
   "metadata": {},
   "outputs": [],
   "source": [
    "# Examine the new advanced metrics\n",
    "games_processed[['OffensiveRating', 'DefensiveRating', 'NetRating', 'PaceEstimate']].describe()"
   ]
  },
  {
   "cell_type": "code",
   "execution_count": null,
   "metadata": {},
   "outputs": [],
   "source": [
    "# Examine the new player advanced metrics\n",
    "player_games_processed[['GameScore', 'BoxPlusMinus']].describe()"
   ]
  },
  {
   "cell_type": "markdown",
   "metadata": {},
   "source": [
    "### Handle Edge Cases and Anomalies"
   ]
  },
  {
   "cell_type": "code",
   "execution_count": null,
   "metadata": {},
   "outputs": [],
   "source": [
    "# Check for outliers in player minutes\n",
    "plt.figure(figsize=(10, 6))\n",
    "sns.boxplot(x=player_games_processed['MIN'])\n",
    "plt.title('Distribution of Minutes Played (Box Plot)', fontsize=14)\n",
    "plt.xlabel('Minutes', fontsize=12)\n",
    "plt.grid(True, alpha=0.3)\n",
    "plt.show()"
   ]
  },
  {
   "cell_type": "code",
   "execution_count": null,
   "metadata": {},
   "outputs": [],
   "source": [
    "# Handle outliers in minutes played (e.g., overtime games)\n",
    "# Flag games with unusually high minutes\n",
    "high_minute_threshold = 48  # Regular game is 48 minutes\n",
    "high_minute_games = player_games_processed[player_games_processed['MIN'] > high_minute_threshold]\n",
    "print(f\"Number of player-games with more than {high_minute_threshold} minutes: {len(high_minute_games)}\")\n",
    "\n",
    "# Examine these games\n",
    "if len(high_minute_games) > 0:\n",
    "    high_minute_games[['PlayerName', 'GAME_DATE', 'MIN', 'PTS', 'PLUS_MINUS']].head(10)"
   ]
  },
  {
   "cell_type": "code",
   "execution_count": null,
   "metadata": {},
   "outputs": [],
   "source": [
    "# Check for games with very low minutes but high stats (potential data errors)\n",
    "low_min_high_pts = player_games_processed[(player_games_processed['MIN'] < 5) & (player_games_processed['PTS'] > 10)]\n",
    "print(f\"Number of player-games with less than 5 minutes but more than 10 points: {len(low_min_high_pts)}\")\n",
    "\n",
    "# Examine these games\n",
    "if len(low_min_high_pts) > 0:\n",
    "    low_min_high_pts[['PlayerName', 'GAME_DATE', 'MIN', 'PTS', 'PLUS_MINUS']].head(10)"
   ]
  },
  {
   "cell_type": "code",
   "execution_count": null,
   "metadata": {},
   "outputs": [],
   "source": [
    "# Handle potential data errors\n",
    "# For this analysis, we'll filter out games with very low minutes but high stats\n",
    "player_games_cleaned = player_games_processed[~((player_games_processed['MIN'] < 5) & (player_games_processed['PTS'] > 10))]\n",
    "print(f\"Removed {len(player_games_processed) - len(player_games_cleaned)} potential data errors\")"
   ]
  },
  {
   "cell_type": "markdown",
   "metadata": {},
   "source": [
    "## Temporal Feature Engineering\n",
    "\n",
    "Now let's create temporal features that will be the foundation for our dynamical systems analysis."
   ]
  },
  {
   "cell_type": "code",
   "execution_count": null,
   "metadata": {},
   "outputs": [],
   "source": [
    "# Create temporal features using our module\n",
    "player_temporal_df = create_temporal_features(player_games_cleaned)\n",
    "\n",
    "# Check the temporal features\n",
    "print(\"Player temporal dataset shape:\", player_temporal_df.shape)"
   ]
  },
  {
   "cell_type": "code",
   "execution_count": null,
   "metadata": {},
   "outputs": [],
   "source": [
    "# Examine the temporal features\n",
    "temporal_features = ['PTS_MA5', 'PTS_Trend', 'PTS_Volatility', 'PTS_Change', 'PLUS_MINUS_Change', 'PTS_Momentum', 'Performance_Momentum']\n",
    "player_temporal_df[temporal_features].describe()"
   ]
  },
  {
   "cell_type": "code",
   "execution_count": null,
   "metadata": {},
   "outputs": [],
   "source": [
    "# Select a sample player for temporal feature visualization\n",
    "sample_player_id = player_game_counts.index[0]\n",
    "sample_player_name = player_temporal_df[player_temporal_df['Player_ID'] == sample_player_id]['PlayerName'].iloc[0]\n",
    "\n",
    "# Get player's temporal data\n",
    "player_temporal_data = player_temporal_df[player_temporal_df['Player_ID'] == sample_player_id].copy()\n",
    "player_temporal_data = player_temporal_data.sort_values('GAME_DATE')\n",
    "\n",
    "# Plot temporal features\n",
    "fig, (ax1, ax2, ax3) = plt.subplots(3, 1, figsize=(14, 12), sharex=True)\n",
    "\n",
    "# Points and moving average\n",
    "ax1.plot(player_temporal_data['GAME_DATE'], player_temporal_data['PTS'], marker='o', linestyle='-', label='Points')\n",
    "ax1.plot(player_temporal_data['GAME_DATE'], player_temporal_data['PTS_MA5'], linestyle='-', color='red', label='5-Game Moving Avg')\n",
    "ax1.set_ylabel('Points', fontsize=12)\n",
    "ax1.set_title(f\"{sample_player_name}: Temporal Features\", fontsize=14)\n",
    "ax1.grid(True, alpha=0.3)\n",
    "ax1.legend()\n",
    "\n",
    "# Points trend and volatility\n",
    "ax2.plot(player_temporal_data['GAME_DATE'], player_temporal_data['PTS_Trend'], marker='o', linestyle='-', color='green', label='Points Trend')\n",
    "ax2.plot(player_temporal_data['GAME_DATE'], player_temporal_data['PTS_Volatility'], linestyle='-', color='orange', label='Points Volatility')\n",
    "ax2.set_ylabel('Value', fontsize=12)\n",
    "ax2.grid(True, alpha=0.3)\n",
    "ax2.axhline(y=0, color='gray', linestyle='--')\n",
    "ax2.legend()\n",
    "\n",
    "# Momentum features\n",
    "ax3.plot(player_temporal_data['GAME_DATE'], player_temporal_data['PTS_Momentum'], marker='o', linestyle='-', color='purple', label='Points Momentum')\n",
    "ax3.plot(player_temporal_data['GAME_DATE'], player_temporal_data['Performance_Momentum'], linestyle='-', color='brown', label='Performance Momentum')\n",
    "ax3.set_xlabel('Game Date', fontsize=12)\n",
    "ax3.set_ylabel('Momentum', fontsize=12)\n",
    "ax3.grid(True, alpha=0.3)\n",
    "ax3.axhline(y=0, color='gray', linestyle='--')\n",
    "ax3.legend()\n",
    "\n",
    "plt.tight_layout()\n",
    "plt.show()"
   ]
  },
  {
   "cell_type": "markdown",
   "metadata": {},
   "source": [
    "## Data Quality & Preprocessing\n",
    "\n",
    "Let's address any remaining data quality issues and prepare the final datasets for subsequent notebooks."
   ]
  },
  {
   "cell_type": "code",
   "execution_count": null,
   "metadata": {},
   "outputs": [],
   "source": [
    "# Check for missing values in the temporal dataset\n",
    "print(\"Missing values in player temporal dataset:\")\n",
    "print(player_temporal_df.isnull().sum())"
   ]
  },
  {
   "cell_type": "code",
   "execution_count": null,
   "metadata": {},
   "outputs": [],
   "source": [
    "# Handle missing values in temporal features\n",
    "# For this analysis, we'll fill missing values with 0\n",
    "player_temporal_df = player_temporal_df.fillna(0)\n",
    "\n",
    "# Verify no missing values remain\n",
    "print(\"Missing values after filling:\")\n",
    "print(player_temporal_df.isnull().sum().sum())"
   ]
  },
  {
   "cell_type": "code",
   "execution_count": null,
   "metadata": {},
   "outputs": [],
   "source": [
    "# Ensure date formats are consistent\n",
    "player_temporal_df['GAME_DATE'] = pd.to_datetime(player_temporal_df['GAME_DATE'])\n",
    "\n",
    "# Sort by player and date\n",
    "player_temporal_df = player_temporal_df.sort_values(['Player_ID', 'GAME_DATE'])"
   ]
  },
  {
   "cell_type": "code",
   "execution_count": null,
   "metadata": {},
   "outputs": [],
   "source": [
    "# Save the processed datasets for use in subsequent notebooks\n",
    "import os\n",
    "\n",
    "# Create processed data directory if it doesn't exist\n",
    "os.makedirs('../data/processed', exist_ok=True)\n",
    "\n",
    "# Save datasets\n",
    "games_processed.to_csv('../data/processed/games_processed.csv', index=False)\n",
    "player_games_cleaned.to_csv('../data/processed/player_games_processed.csv', index=False)\n",
    "player_temporal_df.to_csv('../data/processed/player_temporal.csv', index=False)\n",
    "\n",
    "print(\"Saved processed datasets to ../data/processed/\")"
   ]
  },
  {
   "cell_type": "markdown",
   "metadata": {},
   "source": [
    "## Conclusion\n",
    "\n",
    "In this notebook, we've explored the NBA dataset that will be used for our dynamical systems analysis. We've examined the structure of the data, checked for quality issues, performed exploratory analysis, and created derived features that will be the foundation for our subsequent analysis.\n",
    "\n",
    "Key accomplishments:\n",
    "1. Loaded and explored four primary datasets: teams, players, games, and player games\n",
    "2. Visualized the relationships between these datasets\n",
    "3. Performed exploratory data analysis to understand distributions and correlations\n",
    "4. Created advanced basketball metrics through feature engineering\n",
    "5. Developed temporal features for dynamical systems analysis\n",
    "6. Addressed data quality issues and prepared clean datasets\n",
    "\n",
    "In the next notebook, we'll apply dynamical systems theory to model player performance stability and extract insights about player consistency and volatility."
   ]
  }
 ],
 "metadata": {
  "kernelspec": {
   "display_name": "Python 3",
   "language": "python",
   "name": "python3"
  },
  "language_info": {
   "codemirror_mode": {
    "name": "ipython",
    "version": 3
   },
   "file_extension": ".py",
   "mimetype": "text/x-python",
   "name": "python",
   "nbconvert_exporter": "python",
   "pygments_lexer": "ipython3",
   "version": "3.8.10"
  }
 },
 "nbformat": 4,
 "nbformat_minor": 4
}